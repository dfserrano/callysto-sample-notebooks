{
 "cells": [
  {
   "cell_type": "code",
   "execution_count": 5,
   "metadata": {},
   "outputs": [],
   "source": [
    "import pandas as pd\n",
    "# Note values in chart are rounded and that only a limited number of crash victims in NWT and YK were tested for alcohol and/or drugs, therefore their presence has been assumed to be the same as those among drivers of highway vehicles in the rest of Canada dying within 30 days of the crash"
   ]
  },
  {
   "cell_type": "code",
   "execution_count": 1,
   "metadata": {
    "scrolled": true
   },
   "outputs": [
    {
     "ename": "SyntaxError",
     "evalue": "invalid syntax (<ipython-input-1-26fed07d9c59>, line 4)",
     "output_type": "error",
     "traceback": [
      "\u001b[0;36m  File \u001b[0;32m\"<ipython-input-1-26fed07d9c59>\"\u001b[0;36m, line \u001b[0;32m4\u001b[0m\n\u001b[0;31m    df = pd.DataFrame(raw_data, columns = ['Carcinogenic to Humans', 'Probably Carcinogenic to Humans', 'Possibly Carcinogenic to Humans'])\u001b[0m\n\u001b[0m     ^\u001b[0m\n\u001b[0;31mSyntaxError\u001b[0m\u001b[0;31m:\u001b[0m invalid syntax\n"
     ]
    }
   ],
   "source": [
    "raw_data = {'Location': ['CAN', 'AB', 'BC', 'MB', 'NB', 'NL', 'NS', 'ON', 'PE', 'QC', 'SK', 'NT', 'NU', 'YK'], \n",
    "        'Total # of Crash Deaths': [2297, 414, 427, 79, 61, 40, 62, 678, 6, 381, 139, 5, 0, 5], \n",
    "        '# of Fatalities Involving Drugs Alone or Drugs and Alcohol': [974, 182, 181, 40, 41, 17, 23, 296, 2, 133, 51, 2, 0, 2], \n",
    "        '% of Fatalities Involving Drugs Alone or Drugs and Alcohol': [42.4, 44.0, 42.4, 50.0, 68.0, 42.9, 36.7, 43.6, 33.3, 34.9, 36.8, 42.4, 0.0, 42.4]}\n",
    "df = pd.DataFrame(raw_data, columns = ['Location', 'Total # of Crash Deaths', '# of Fatalities Involving Drugs Alone or Drugs and Alcohol', '% of Fatalities Involving Drugs Alone or Drugs and Alcohol'])\n",
    "df"
   ]
  },
  {
   "cell_type": "code",
   "execution_count": 7,
   "metadata": {},
   "outputs": [],
   "source": [
    "df.to_csv('affectsofsubabuse.csv')"
   ]
  }
 ],
 "metadata": {
  "kernelspec": {
   "display_name": "Python 3",
   "language": "python",
   "name": "python3"
  },
  "language_info": {
   "codemirror_mode": {
    "name": "ipython",
    "version": 3
   },
   "file_extension": ".py",
   "mimetype": "text/x-python",
   "name": "python",
   "nbconvert_exporter": "python",
   "pygments_lexer": "ipython3",
   "version": "3.7.0"
  }
 },
 "nbformat": 4,
 "nbformat_minor": 2
}
